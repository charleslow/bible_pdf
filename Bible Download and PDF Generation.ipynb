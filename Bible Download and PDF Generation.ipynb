{
 "cells": [
  {
   "cell_type": "code",
   "execution_count": 1,
   "metadata": {
    "collapsed": true
   },
   "outputs": [],
   "source": [
    "import requests\n",
    "from pylatex import Document, Section, Subsection, Command\n",
    "from pylatex.utils import italic, NoEscape\n",
    "import pandas as pd"
   ]
  },
  {
   "cell_type": "code",
   "execution_count": 2,
   "metadata": {
    "collapsed": true
   },
   "outputs": [],
   "source": [
    "# Read Auth Key\n",
    "with open('key.txt') as f:\n",
    "    key = f.readlines()[0]"
   ]
  },
  {
   "cell_type": "code",
   "execution_count": 3,
   "metadata": {
    "collapsed": true
   },
   "outputs": [],
   "source": [
    "# Function to Download Passage\n",
    "def download_passage(book, c1, v1, c2, v2):\n",
    "    url = \"https://api.esv.org/v3/passage/text/?q=\" + book + \"+\" + str(c1) + \":\" + str(v1) + \"-\" + str(c2) + \":\" + str(v2)\n",
    "    headers = {\"Authorization\": key}\n",
    "    params = {\"include-footnotes\" : \"false\",\n",
    "              \"include-passage-references\" : \"false\"}\n",
    "    \n",
    "    # Pull from API\n",
    "    r = requests.get(url, headers=headers, params=params)\n",
    "    passage = r.json()[\"passages\"][0]\n",
    "    \n",
    "    return passage"
   ]
  },
  {
   "cell_type": "code",
   "execution_count": 51,
   "metadata": {
    "collapsed": true
   },
   "outputs": [],
   "source": [
    "# Get passage list\n",
    "df = pd.read_csv(\"mark.csv\")"
   ]
  },
  {
   "cell_type": "code",
   "execution_count": 52,
   "metadata": {},
   "outputs": [
    {
     "name": "stdout",
     "output_type": "stream",
     "text": [
      "0\n",
      "1\n",
      "2\n",
      "3\n",
      "4\n",
      "5\n",
      "6\n",
      "7\n",
      "8\n",
      "9\n",
      "10\n",
      "11\n"
     ]
    }
   ],
   "source": [
    "# Start Doc\n",
    "doc = Document('mark')\n",
    "\n",
    "for i in range(df.shape[0]):\n",
    "    print(i)\n",
    "    c1 = df[\"c1\"][i]\n",
    "    v1 = df[\"v1\"][i]\n",
    "    c2 = df[\"c2\"][i]\n",
    "    v2 = df[\"v2\"][i]\n",
    "    book = \"Mark\"\n",
    "    passage = download_passage(book, c1, v1, c2, v2)\n",
    "    \n",
    "    reference = book + \" \" + str(c1) + \":\" + str(v1) + \" - \" + str(c2) + \":\" + str(v2)\n",
    "    doc.append(reference)\n",
    "    doc.append(\"\\n\\n\")\n",
    "    doc.append(passage)\n",
    "    \n",
    "# Make PDF\n",
    "doc.generate_pdf(clean_tex=False)"
   ]
  }
 ],
 "metadata": {
  "kernelspec": {
   "display_name": "Python 3",
   "language": "python",
   "name": "python3"
  },
  "language_info": {
   "codemirror_mode": {
    "name": "ipython",
    "version": 3
   },
   "file_extension": ".py",
   "mimetype": "text/x-python",
   "name": "python",
   "nbconvert_exporter": "python",
   "pygments_lexer": "ipython3",
   "version": "3.6.3"
  }
 },
 "nbformat": 4,
 "nbformat_minor": 2
}
